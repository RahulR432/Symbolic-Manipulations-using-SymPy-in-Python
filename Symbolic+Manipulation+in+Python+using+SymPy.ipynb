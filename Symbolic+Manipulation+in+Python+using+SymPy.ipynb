{
 "cells": [
  {
   "cell_type": "code",
   "execution_count": 3,
   "metadata": {
    "collapsed": true
   },
   "outputs": [],
   "source": [
    "#immporting symboliic python package\n",
    "import sympy as sp\n",
    "sp.init_printing()"
   ]
  },
  {
   "cell_type": "code",
   "execution_count": 6,
   "metadata": {
    "collapsed": false
   },
   "outputs": [
    {
     "name": "stdout",
     "output_type": "stream",
     "text": [
      "x**2 + y**2 + z**2\n",
      " 2    2    2\n",
      "x  + y  + z \n"
     ]
    },
    {
     "data": {
      "image/png": "[encoded data removed]",
      "text/latex": [
       "$$x^{2} + y^{2} + z^{2}$$"
      ],
      "text/plain": [
       " 2    2    2\n",
       "x  + y  + z "
      ]
     },
     "execution_count": 6,
     "metadata": {},
     "output_type": "execute_result"
    }
   ],
   "source": [
    "# set the variables x,y,z and functions f,g\n",
    "x = sp.Symbol('x')\n",
    "y,z =  sp.symbols('y,z')\n",
    "\n",
    "f = sp.Function('f')\n",
    "g = x**2 + y**2 + z**2\n",
    "print(g)\n",
    "sp.pprint(g)\n",
    "g"
   ]
  },
  {
   "cell_type": "code",
   "execution_count": 8,
   "metadata": {
    "collapsed": false
   },
   "outputs": [
    {
     "data": {
      "image/png": "[encoded data removed]",
      "text/latex": [
       "$$x^{2} + 2 x - 5$$"
      ],
      "text/plain": [
       " 2          \n",
       "x  + 2⋅x - 5"
      ]
     },
     "execution_count": 8,
     "metadata": {},
     "output_type": "execute_result"
    }
   ],
   "source": [
    "# Set an expression for x2+2x-5\n",
    "h = x**2 + 2*x - 5\n",
    "h"
   ]
  },
  {
   "cell_type": "code",
   "execution_count": 12,
   "metadata": {
    "collapsed": false
   },
   "outputs": [
    {
     "name": "stdout",
     "output_type": "stream",
     "text": [
      "0.250000000000000\n",
      "10\n",
      "y**4 + 2*y**2 - 5\n"
     ]
    }
   ],
   "source": [
    "#Evaluate the expression for x =1.5 anf make a variable substitution z for x and also y2 for x:\n",
    "print(h.subs(x,1.5))\n",
    "z=3\n",
    "print(h.subs(x,z))\n",
    "print(h.subs(x,y**2))"
   ]
  },
  {
   "cell_type": "code",
   "execution_count": 15,
   "metadata": {
    "collapsed": false
   },
   "outputs": [
    {
     "name": "stdout",
     "output_type": "stream",
     "text": [
      "(x**2 - x - 6)/(x**2 - 3*x)\n"
     ]
    },
    {
     "data": {
      "image/png": "[encoded data removed]",
      "text/latex": [
       "$$\\frac{1}{x} \\left(x + 2\\right)$$"
      ],
      "text/plain": [
       "x + 2\n",
       "─────\n",
       "  x  "
      ]
     },
     "execution_count": 15,
     "metadata": {},
     "output_type": "execute_result"
    }
   ],
   "source": [
    "#Simplify the expression  (x2-x-6)/(x2-3x)\n",
    "\n",
    "f = (x**2 -x -6)/(x**2 - 3*x)\n",
    "print(f)\n",
    "sp.simplify(f)"
   ]
  },
  {
   "cell_type": "code",
   "execution_count": 17,
   "metadata": {
    "collapsed": false
   },
   "outputs": [
    {
     "name": "stdout",
     "output_type": "stream",
     "text": [
      "(x - 2)**2*(x + 1)**3\n"
     ]
    },
    {
     "data": {
      "image/png": "[encoded data removed]",
      "text/latex": [
       "$$x^{5} - x^{4} - 5 x^{3} + x^{2} + 8 x + 4$$"
      ],
      "text/plain": [
       " 5    4      3    2          \n",
       "x  - x  - 5⋅x  + x  + 8⋅x + 4"
      ]
     },
     "execution_count": 17,
     "metadata": {},
     "output_type": "execute_result"
    }
   ],
   "source": [
    "#Expand  the expression (x+1)3(x-2)2\n",
    "\n",
    "f = (x+1)**3 * (x-2)**2\n",
    "print(f)\n",
    "sp.expand(f)"
   ]
  },
  {
   "cell_type": "code",
   "execution_count": 19,
   "metadata": {
    "collapsed": false
   },
   "outputs": [
    {
     "name": "stdout",
     "output_type": "stream",
     "text": [
      "3*x**4 - 36*x**3 + 99*x**2 - 6*x - 144\n"
     ]
    },
    {
     "data": {
      "image/png": "[encoded data removed]",
      "text/latex": [
       "$$3 \\left(x - 8\\right) \\left(x - 3\\right) \\left(x - 2\\right) \\left(x + 1\\right)$$"
      ],
      "text/plain": [
       "3⋅(x - 8)⋅(x - 3)⋅(x - 2)⋅(x + 1)"
      ]
     },
     "execution_count": 19,
     "metadata": {},
     "output_type": "execute_result"
    }
   ],
   "source": [
    "#Factor the expression  3x4-36x3+99x2-6x-144\n",
    "f = 3*x**4 - 36*x**3 +99*x**2 - 6*x -144\n",
    "print(f)\n",
    "sp.factor(f)"
   ]
  },
  {
   "cell_type": "code",
   "execution_count": 27,
   "metadata": {
    "collapsed": false
   },
   "outputs": [
    {
     "name": "stdout",
     "output_type": "stream",
     "text": [
      "exp(2*x)*sin(x)**2\n",
      "2*exp(2*x)*sin(x)**2 + 2*exp(2*x)*sin(x)*cos(x)\n"
     ]
    },
    {
     "data": {
      "image/png": "[encoded data removed]",
      "text/latex": [
       "$$265.596339800896$$"
      ],
      "text/plain": [
       "265.596339800896"
      ]
     },
     "execution_count": 27,
     "metadata": {},
     "output_type": "execute_result"
    }
   ],
   "source": [
    "#Compute the symbolic derivate d/dx( sin2(x)e(2x) ) and evaluate for x =3.3\n",
    "\n",
    "y = sp.sin(x)**2 * sp.exp(2*x)\n",
    "print(y)\n",
    "\n",
    "f = sp.diff(y,x)\n",
    "print(f)\n",
    "f.subs(x,3.3)"
   ]
  },
  {
   "cell_type": "code",
   "execution_count": 32,
   "metadata": {
    "collapsed": false
   },
   "outputs": [
    {
     "name": "stdout",
     "output_type": "stream",
     "text": [
      "-25*cos(25)*gamma(5/4)/(8*gamma(9/4)) + 5*sqrt(2)*sqrt(pi)*fresnelc(5*sqrt(2)/sqrt(pi))*gamma(5/4)/(16*gamma(9/4))\n"
     ]
    },
    {
     "data": {
      "image/png": "[encoded data removed]",
      "text/latex": [
       "$$-2.17227364646045$$"
      ],
      "text/plain": [
       "-2.17227364646045"
      ]
     },
     "execution_count": 32,
     "metadata": {},
     "output_type": "execute_result"
    }
   ],
   "source": [
    "# create a sympy expression representing the integral and then evaluate the integral symbolically\n",
    "'''\n",
    "      /5\n",
    "     /   x2sin(x2)dx\n",
    "    /0\n",
    "'''\n",
    "y = x**2 *(sp.sin(x**2))\n",
    "\n",
    "f = sp.integrate(y, (x,0,5))\n",
    "print(f)\n",
    "f.evalf()"
   ]
  },
  {
   "cell_type": "code",
   "execution_count": 40,
   "metadata": {
    "collapsed": false
   },
   "outputs": [
    {
     "name": "stdout",
     "output_type": "stream",
     "text": [
      "Eq(x**3 + 15*x**2, 3*x - 10)\n",
      "-5 - 78/((-1/2 - sqrt(3)*I/2)*(27*sqrt(5321)/2 + 7425/2)**(1/3)) - (-1/2 - sqrt(3)*I/2)*(27*sqrt(5321)/2 + 7425/2)**(1/3)/3\n",
      "0.119953874110975 + 0.801113611837881*I\n",
      "0.119953874110975 - 0.801113611837881*I\n",
      "-15.2399077482219\n"
     ]
    }
   ],
   "source": [
    "#Solve for the roots of the equation x3+15x2=3x-10\n",
    "'''\n",
    "Use the Eq and solve functions and save as an expression\n",
    "Find the numerical value of each root using the evalf function\n",
    "'''\n",
    "y = sp.Eq(x**3 + 15*x**2 , 3*x -10) \n",
    "print(y)\n",
    "z = sp.solve(y,x)\n",
    "print(z[0])\n",
    "for w in z:\n",
    "    print(w.evalf())"
   ]
  },
  {
   "cell_type": "code",
   "execution_count": 41,
   "metadata": {
    "collapsed": false
   },
   "outputs": [
    {
     "data": {
      "image/png": "[encoded data removed]",
      "text/latex": [
       "$$\\left \\{ x : \\frac{10}{3}, \\quad y : - \\frac{35}{3}, \\quad z : \\frac{25}{3}\\right \\}$$"
      ],
      "text/plain": [
       "{x: 10/3, y: -35/3, z: 25/3}"
      ]
     },
     "execution_count": 41,
     "metadata": {},
     "output_type": "execute_result"
    }
   ],
   "source": [
    "#Solve the system of three equations in 3 unkowns symbolically\n",
    "'''\n",
    "x+y+z=0, 2x-y-z=10, y+2z=5\n",
    "'''\n",
    "x,y,z = sp.symbols('x,y,z')\n",
    "eq1 = sp.Eq(x+y+z,0)\n",
    "eq2 = sp.Eq(2*x-y-z,10)\n",
    "eq3 = sp.Eq(y+2*z,5)\n",
    "\n",
    "sp.solve([eq1,eq2,eq3],[x,y,z])\n"
   ]
  },
  {
   "cell_type": "code",
   "execution_count": 44,
   "metadata": {
    "collapsed": false
   },
   "outputs": [
    {
     "name": "stdout",
     "output_type": "stream",
     "text": [
      "[  3.33333333 -11.66666667   8.33333333]\n"
     ]
    }
   ],
   "source": [
    "# comparing with scipy\n",
    "from scipy.optimize import fsolve\n",
    "def f(w):\n",
    "    x = w[0]\n",
    "    y = w[1]\n",
    "    z = w[2]\n",
    "    \n",
    "    f1 = x+y+z\n",
    "    f2 = 2*x-y-z-10\n",
    "    f3 = y+2*z-5\n",
    "    return(f1,f2,f3)\n",
    "      \n",
    "result = fsolve(f,[0,0,0])\n",
    "print(result)"
   ]
  },
  {
   "cell_type": "code",
   "execution_count": 48,
   "metadata": {
    "collapsed": false
   },
   "outputs": [
    {
     "name": "stdout",
     "output_type": "stream",
     "text": [
      "Eq(f(x), C1 + x*sin(x) + cos(x))\n",
      "x*sin(x) + cos(x)\n"
     ]
    }
   ],
   "source": [
    "'''\n",
    "Solve the differential equation symbolically using the dsolve function\n",
    "df(x)/dx = xcos(x)\n",
    "'''\n",
    "\n",
    "f = sp.Function('f')\n",
    "y = sp.dsolve(sp.Derivative(f(x),x) - x*sp.cos(x), f(x))\n",
    "print(y)\n",
    "\n",
    "print(sp.integrate(x*sp.cos(x)))"
   ]
  },
  {
   "cell_type": "code",
   "execution_count": 59,
   "metadata": {
    "collapsed": false
   },
   "outputs": [
    {
     "name": "stdout",
     "output_type": "stream",
     "text": [
      "⎡1   2  5⎤\n",
      "⎢        ⎥\n",
      "⎢3   4  6⎥\n",
      "⎢        ⎥\n",
      "⎣-1  0  3⎦\n",
      "---------\n",
      "⎡1 ⎤\n",
      "⎢  ⎥\n",
      "⎢0 ⎥\n",
      "⎢  ⎥\n",
      "⎣-2⎦\n",
      "⎡  6    -3  -4 ⎤\n",
      "⎢              ⎥\n",
      "⎢-15/2  4   9/2⎥\n",
      "⎢              ⎥\n",
      "⎣  2    -1  -1 ⎦\n",
      "⎡ 14  ⎤\n",
      "⎢     ⎥\n",
      "⎢-33/2⎥\n",
      "⎢     ⎥\n",
      "⎣  4  ⎦\n",
      "⎡ 14  ⎤\n",
      "⎢     ⎥\n",
      "⎢-33/2⎥\n",
      "⎢     ⎥\n",
      "⎣  4  ⎦\n"
     ]
    }
   ],
   "source": [
    "'''\n",
    "for the system Ax=b with \n",
    "A=[1  2 5]\n",
    "  [3  4 6]\n",
    "  [-1 0 3]\n",
    "  \n",
    "  b = [ 1]\n",
    "      [ 0]\n",
    "      [-2]\n",
    "      Setup the matrices A and B and solve for matrix x by matrix algebra\n",
    "'''\n",
    "\n",
    "#from sympy import Matrix\n",
    "A = sp.Matrix([[1,2,5],[3,4,6],[-1,0,3]])\n",
    "sp.pprint(A) ;print(\"---------\")\n",
    "B = sp.Matrix([1,0,-2])\n",
    "sp.pprint(B)\n",
    "\n",
    "# x = A^-1*b\n",
    "sp.pprint(A.inv())  # Taking the inverse of A\n",
    "sp.pprint(A.inv()*B) # Solved for X\n",
    "\n",
    "# Using LUsolve\n",
    "sp.pprint(A.LUsolve(B))"
   ]
  },
  {
   "cell_type": "code",
   "execution_count": 67,
   "metadata": {
    "collapsed": false
   },
   "outputs": [
    {
     "name": "stdout",
     "output_type": "stream",
     "text": [
      "⎡1   2  5⎤\n",
      "⎢        ⎥\n",
      "⎢3   4  6⎥\n",
      "⎢        ⎥\n",
      "⎣-1  0  3⎦\n",
      "[3  4  6]\n",
      "⎡2⎤\n",
      "⎢ ⎥\n",
      "⎢4⎥\n",
      "⎢ ⎥\n",
      "⎣0⎦\n"
     ]
    }
   ],
   "source": [
    "sp.pprint(A)\n",
    "sp.pprint(A[1:2,:])\n",
    "sp.pprint(A[:,1:2])"
   ]
  },
  {
   "cell_type": "code",
   "execution_count": 73,
   "metadata": {
    "collapsed": false
   },
   "outputs": [
    {
     "name": "stdout",
     "output_type": "stream",
     "text": [
      "⎡ 2    ⎤\n",
      "⎢x   1 ⎥\n",
      "⎢      ⎥\n",
      "⎣0   12⎦\n",
      "⎡1    -1  ⎤\n",
      "⎢──  ─────⎥\n",
      "⎢ 2      2⎥\n",
      "⎢x   12⋅x ⎥\n",
      "⎢         ⎥\n",
      "⎣0   1/12 ⎦\n"
     ]
    }
   ],
   "source": [
    "'''\n",
    "Create a matrix M using the zeros function of 2x2. Fill some values using array notation\n",
    "'''\n",
    "\n",
    "M = sp.zeros(2,2)\n",
    "M[1,1]=12\n",
    "M[0,0]=x**2\n",
    "M[0,1]=1\n",
    "sp.pprint(M)\n",
    "sp.pprint(M.inv())"
   ]
  }
 ],
 "metadata": {
  "anaconda-cloud": {},
  "kernelspec": {
   "display_name": "Python [conda root]",
   "language": "python",
   "name": "conda-root-py"
  },
  "language_info": {
   "codemirror_mode": {
    "name": "ipython",
    "version": 3
   },
   "file_extension": ".py",
   "mimetype": "text/x-python",
   "name": "python",
   "nbconvert_exporter": "python",
   "pygments_lexer": "ipython3",
   "version": "3.5.2"
  }
 },
 "nbformat": 4,
 "nbformat_minor": 1
}
